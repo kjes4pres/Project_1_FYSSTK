{
 "cells": [
  {
   "cell_type": "code",
   "execution_count": null,
   "id": "28509a95",
   "metadata": {
    "vscode": {
     "languageId": "plaintext"
    }
   },
   "outputs": [],
   "source": [
    "Hei"
   ]
  }
 ],
 "metadata": {
  "language_info": {
   "name": "python"
  }
 },
 "nbformat": 4,
 "nbformat_minor": 5
}
