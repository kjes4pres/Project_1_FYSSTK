{
 "cells": [
  {
   "cell_type": "code",
   "execution_count": 5,
   "id": "08e554d7",
   "metadata": {},
   "outputs": [],
   "source": [
    "from functions import *\n",
    "import numpy as np\n",
    "import matplotlib.pyplot as plt\n",
    "import matplotlib.pyplot as plt\n",
    "import numpy as np\n",
    "from sklearn.linear_model import LinearRegression\n",
    "from sklearn.preprocessing import PolynomialFeatures\n",
    "from sklearn.model_selection import train_test_split\n",
    "from sklearn.preprocessing import MinMaxScaler, StandardScaler, Normalizer\n",
    "from sklearn.pipeline import make_pipeline\n",
    "import matplotlib.style as mplstyle\n",
    "mplstyle.use(['ggplot', 'fast'])\n",
    "\n",
    "# plt.rcParams.update({\n",
    "#     \"text.usetex\": True,       \n",
    "#     \"font.family\": \"serif\",    \n",
    "#     \"font.size\": 10, \n",
    "# })\n",
    "\n",
    "np.random.seed(2018)"
   ]
  },
  {
   "cell_type": "code",
   "execution_count": 7,
   "id": "d831cdff",
   "metadata": {},
   "outputs": [
    {
     "ename": "TypeError",
     "evalue": "make_data() takes 1 positional argument but 2 were given",
     "output_type": "error",
     "traceback": [
      "\u001b[1;31m---------------------------------------------------------------------------\u001b[0m",
      "\u001b[1;31mTypeError\u001b[0m                                 Traceback (most recent call last)",
      "Cell \u001b[1;32mIn[7], line 10\u001b[0m\n\u001b[0;32m      7\u001b[0m tolerance     \u001b[38;5;241m=\u001b[39m \u001b[38;5;241m1e-6\u001b[39m\n\u001b[0;32m      8\u001b[0m use_tol       \u001b[38;5;241m=\u001b[39m \u001b[38;5;28;01mTrue\u001b[39;00m\n\u001b[1;32m---> 10\u001b[0m train, test, full \u001b[38;5;241m=\u001b[39m make_data(n, \u001b[38;5;241m2018\u001b[39m)\n\u001b[0;32m     12\u001b[0m X_train \u001b[38;5;241m=\u001b[39m train[\u001b[38;5;241m0\u001b[39m]\u001b[38;5;241m.\u001b[39mreshape(\u001b[38;5;241m-\u001b[39m\u001b[38;5;241m1\u001b[39m,\u001b[38;5;241m1\u001b[39m)\n\u001b[0;32m     13\u001b[0m X_test \u001b[38;5;241m=\u001b[39m test[\u001b[38;5;241m0\u001b[39m]\u001b[38;5;241m.\u001b[39mreshape(\u001b[38;5;241m-\u001b[39m\u001b[38;5;241m1\u001b[39m,\u001b[38;5;241m1\u001b[39m)\n",
      "\u001b[1;31mTypeError\u001b[0m: make_data() takes 1 positional argument but 2 were given"
     ]
    }
   ],
   "source": [
    "polynomial_degree     = 10\n",
    "n = 1000\n",
    "lambda_               = 1e-5\n",
    "\n",
    "learning_rate = 0.01\n",
    "n_iterations  = 10000\n",
    "tolerance     = 1e-6\n",
    "use_tol       = True\n",
    "\n",
    "train, test, full = make_data(n, 2018)\n",
    "\n",
    "X_train = train[0].reshape(-1,1)\n",
    "X_test = test[0].reshape(-1,1)\n",
    "y_train = train[1]\n",
    "y_test = test[1]\n",
    "\n",
    "poly = PolynomialFeatures(degree=polynomial_degree, include_bias=False)\n",
    "X_train = poly.fit_transform(x_train_scaled)#_scaled)\n",
    "X_test = poly.transform(x_test_scaled)\n",
    "\n",
    "print(X_train)\n",
    "\n",
    "scaler = StandardScaler()\n",
    "scaler.fit(X_train)\n",
    "x_train_scaled = scaler.transform(X_train)\n",
    "x_test_scaled  = scaler.transform(X_test)\n",
    "\n",
    "print(x_train_scaled)"
   ]
  },
  {
   "cell_type": "code",
   "execution_count": 25,
   "id": "a0c6c453",
   "metadata": {},
   "outputs": [],
   "source": [
    "def gradient_descent_lasso(X, y, lmbd, learning_rate=0.0001, n_iterations=1000, tol=1e-6, use_tol=False):\n",
    "    n_samples, n_features = X.shape\n",
    "    theta = np.zeros(n_features)\n",
    "    cost_history = []\n",
    "    for i in range(n_iterations):\n",
    "        gradient = lasso_gradient(X, y, theta,lmbd)\n",
    "        theta -= learning_rate * gradient\n",
    "        # cost is the Lasso cost function, including the regularization term\n",
    "        cost = (1/n_samples) * np.sum((X @ theta - y)**2) + lmbd * np.sum(np.abs(theta))\n",
    "        cost_history.append(cost)\n",
    "        if use_tol and i > 0 and abs(cost_history[-2] - cost) < tol:\n",
    "            print(f\"Converged after {i} iterations.\")\n",
    "            break\n",
    "    return theta, cost_history"
   ]
  },
  {
   "cell_type": "code",
   "execution_count": 33,
   "id": "791140e9",
   "metadata": {},
   "outputs": [],
   "source": [
    "theta_lasso_gd, lasso_cost_hist = gradient_descent_lasso(X_train,y_train,0.1,n_iterations = 10000)\n"
   ]
  },
  {
   "cell_type": "code",
   "execution_count": 34,
   "id": "36593749",
   "metadata": {},
   "outputs": [],
   "source": [
    "y_pred_gd_lasso = X_test @ theta_lasso_gd\n",
    "mse_gd_lasso    = MSE(y_test, y_pred_gd_lasso)\n",
    "r2_gd_lasso     = R2(y_test, y_pred_gd_lasso)"
   ]
  },
  {
   "cell_type": "code",
   "execution_count": null,
   "id": "0ad5eb7c",
   "metadata": {},
   "outputs": [
    {
     "data": {
      "text/plain": [
       "[<matplotlib.lines.Line2D at 0x18bf9e22710>]"
      ]
     },
     "execution_count": 35,
     "metadata": {},
     "output_type": "execute_result"
    },
    {
     "data": {
      "image/png": "[encoded data removed]",
      "text/plain": [
       "<Figure size 640x480 with 1 Axes>"
      ]
     },
     "metadata": {},
     "output_type": "display_data"
    }
   ],
   "source": [
    "plt.plot(lasso_cost_hist)\n",
    "plt.title(\"LASSO \")"
   ]
  },
  {
   "cell_type": "code",
   "execution_count": null,
   "id": "b652cc90",
   "metadata": {},
   "outputs": [],
   "source": []
  },
  {
   "cell_type": "code",
   "execution_count": null,
   "id": "68735591",
   "metadata": {},
   "outputs": [],
   "source": []
  }
 ],
 "metadata": {
  "kernelspec": {
   "display_name": "base",
   "language": "python",
   "name": "python3"
  },
  "language_info": {
   "codemirror_mode": {
    "name": "ipython",
    "version": 3
   },
   "file_extension": ".py",
   "mimetype": "text/x-python",
   "name": "python",
   "nbconvert_exporter": "python",
   "pygments_lexer": "ipython3",
   "version": "3.13.5"
  }
 },
 "nbformat": 4,
 "nbformat_minor": 5
}
