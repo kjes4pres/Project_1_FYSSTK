{
 "cells": [
  {
   "cell_type": "markdown",
   "id": "30cea9f9",
   "metadata": {},
   "source": [
    "# Project 1 FYS-STK4155\n",
    "### Trial run Kjersti"
   ]
  },
  {
   "cell_type": "markdown",
   "id": "8493b075",
   "metadata": {},
   "source": [
    "#### Part a)"
   ]
  }
 ],
 "metadata": {
  "kernelspec": {
   "display_name": "exercises",
   "language": "python",
   "name": "python3"
  },
  "language_info": {
   "codemirror_mode": {
    "name": "ipython",
    "version": 3
   },
   "file_extension": ".py",
   "mimetype": "text/x-python",
   "name": "python",
   "nbconvert_exporter": "python",
   "pygments_lexer": "ipython3",
   "version": "3.13.5"
  }
 },
 "nbformat": 4,
 "nbformat_minor": 5
}
